{
 "cells": [
  {
   "cell_type": "markdown",
   "metadata": {},
   "source": [
    "# 10 Seaborn Graphs with Meaning"
   ]
  },
  {
   "cell_type": "code",
   "execution_count": null,
   "metadata": {},
   "outputs": [],
   "source": [
    "import seaborn as sns\n",
    "import matplotlib.pyplot as plt\n",
    "import pandas as pd\n",
    "import numpy as np\n",
    "sns.set_style('whitegrid')"
   ]
  },
  {
   "cell_type": "code",
   "execution_count": null,
   "metadata": {},
   "outputs": [],
   "source": [
    "# 1. Line Plot: Temperature Over Time\n",
    "days = np.arange(1, 31)\n",
    "temp = np.random.normal(25, 5, 30).cumsum()\n",
    "df = pd.DataFrame({'Day': days, 'Temperature': temp})\n",
    "sns.lineplot(x='Day', y='Temperature', data=df)\n",
    "plt.title('Temperature Trend Over 30 Days')\n",
    "plt.show()"
   ]
  },
  {
   "cell_type": "code",
   "execution_count": null,
   "metadata": {},
   "outputs": [],
   "source": [
    "# 2. Bar Plot: Sales by Region\n",
    "df = pd.DataFrame({'Region': ['North', 'South', 'East', 'West'], 'Sales': [300, 450, 200, 350]})\n",
    "sns.barplot(x='Region', y='Sales', data=df, palette='Blues')\n",
    "plt.title('Sales by Region')\n",
    "plt.show()"
   ]
  },
  {
   "cell_type": "code",
   "execution_count": null,
   "metadata": {},
   "outputs": [],
   "source": [
    "# 3. Box Plot: Exam Scores by Class\n",
    "df = pd.DataFrame({'Class': np.repeat(['A', 'B', 'C'], 30),\n",
    "                   'Score': np.concatenate([np.random.normal(70, 10, 30),\n",
    "                                            np.random.normal(75, 15, 30),\n",
    "                                            np.random.normal(80, 5, 30)])})\n",
    "sns.boxplot(x='Class', y='Score', data=df)\n",
    "plt.title('Exam Scores by Class')\n",
    "plt.show()"
   ]
  },
  {
   "cell_type": "code",
   "execution_count": null,
   "metadata": {},
   "outputs": [],
   "source": [
    "# 4. Violin Plot: Salary Distribution by Department\n",
    "df = pd.DataFrame({'Department': np.repeat(['HR', 'IT', 'Sales'], 50),\n",
    "                   'Salary': np.concatenate([np.random.normal(50, 10, 50),\n",
    "                                             np.random.normal(70, 15, 50),\n",
    "                                             np.random.normal(60, 12, 50)])})\n",
    "sns.violinplot(x='Department', y='Salary', data=df, palette='pastel')\n",
    "plt.title('Salary Distribution by Department')\n",
    "plt.show()"
   ]
  },
  {
   "cell_type": "code",
   "execution_count": null,
   "metadata": {},
   "outputs": [],
   "source": [
    "# 5. Scatter Plot: MPG vs Horsepower\n",
    "df = sns.load_dataset('mpg')\n",
    "sns.scatterplot(x='horsepower', y='mpg', hue='origin', data=df)\n",
    "plt.title('MPG vs Horsepower by Origin')\n",
    "plt.show()"
   ]
  },
  {
   "cell_type": "code",
   "execution_count": null,
   "metadata": {},
   "outputs": [],
   "source": [
    "# 6. Heatmap: Correlation Matrix\n",
    "df = pd.DataFrame(np.random.randn(10, 5), columns=['A', 'B', 'C', 'D', 'E'])\n",
    "sns.heatmap(df.corr(), annot=True, cmap='coolwarm')\n",
    "plt.title('Correlation Matrix')\n",
    "plt.show()"
   ]
  },
  {
   "cell_type": "code",
   "execution_count": null,
   "metadata": {},
   "outputs": [],
   "source": [
    "# 7. Pair Plot: Iris Dataset Relationships\n",
    "df = sns.load_dataset('iris')\n",
    "sns.pairplot(df, hue='species')\n",
    "plt.show()"
   ]
  },
  {
   "cell_type": "code",
   "execution_count": null,
   "metadata": {},
   "outputs": [],
   "source": [
    "# 8. Count Plot: Orders by Day\n",
    "df = pd.DataFrame({'Day': np.random.choice(['Mon', 'Tue', 'Wed', 'Thu', 'Fri'], 100),\n",
    "                   'Orders': np.random.randint(1, 10, 100)})\n",
    "sns.countplot(x='Day', data=df, palette='Set2')\n",
    "plt.title('Orders by Day')\n",
    "plt.show()"
   ]
  },
  {
   "cell_type": "code",
   "execution_count": null,
   "metadata": {},
   "outputs": [],
   "source": [
    "# 9. Joint Plot: Height vs Weight with Density\n",
    "height = np.random.normal(170, 10, 100)\n",
    "weight = height * 0.45 + np.random.normal(0, 5, 100)\n",
    "df = pd.DataFrame({'Height': height, 'Weight': weight})\n",
    "sns.jointplot(x='Height', y='Weight', data=df, kind='kde')\n",
    "plt.show()"
   ]
  },
  {
   "cell_type": "code",
   "execution_count": null,
   "metadata": {},
   "outputs": [],
   "source": [
    "# 10. Facet Grid: Tips by Time and Day\n",
    "df = sns.load_dataset('tips')\n",
    "g = sns.FacetGrid(df, col='time', row='day')\n",
    "g.map(sns.histplot, 'total_bill')\n",
    "plt.show()"
   ]
  }
 ],
 "metadata": {
  "kernelspec": {
   "display_name": "Python 3",
   "language": "python",
   "name": "python3"
  },
  "language_info": {
   "codemirror_mode": {
    "name": "ipython",
    "version": 3
   },
   "file_extension": ".py",
   "mimetype": "text/x-python",
   "name": "python",
   "nbconvert_exporter": "python",
   "pygments_lexer": "ipython3",
   "version": "3.x"
  }
 },
 "nbformat": 4,
 "nbformat_minor": 4
}