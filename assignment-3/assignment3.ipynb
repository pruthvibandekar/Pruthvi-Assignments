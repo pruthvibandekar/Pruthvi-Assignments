{
 "cells": [
  {
   "cell_type": "markdown",
   "metadata": {},
   "source": [
    "# 100 NumPy Exercises Solved with Help"
   ]
  },
  {
   "cell_type": "code",
   "execution_count": null,
   "metadata": {},
   "outputs": [],
   "source": [
    "# 1\n",
    "import numpy as np\n",
    "help(np)"
   ]
  },
  {
   "cell_type": "code",
   "execution_count": null,
   "metadata": {},
   "outputs": [],
   "source": [
    "# 2\n",
    "print(np.__version__)\n",
    "np.show_config()\n",
    "help(np.show_config)"
   ]
  },
  {
   "cell_type": "code",
   "execution_count": null,
   "metadata": {},
   "outputs": [],
   "source": [
    "# 3\n",
    "Z = np.zeros(10)\n",
    "print(Z)\n",
    "help(np.zeros)"
   ]
  },
  {
   "cell_type": "code",
   "execution_count": null,
   "metadata": {},
   "outputs": [],
   "source": [
    "# 4\n",
    "Z = np.zeros(10)\n",
    "print(Z.size * Z.itemsize)\n",
    "help(np.ndarray.itemsize)"
   ]
  },
  {
   "cell_type": "code",
   "execution_count": null,
   "metadata": {},
   "outputs": [],
   "source": [
    "# 5\n",
    "help(np.add)"
   ]
  },
  {
   "cell_type": "code",
   "execution_count": null,
   "metadata": {},
   "outputs": [],
   "source": [
    "# 6\n",
    "Z = np.zeros(10)\n",
    "Z[4] = 1\n",
    "print(Z)\n",
    "help(np.zeros)"
   ]
  },
  {
   "cell_type": "code",
   "execution_count": null,
   "metadata": {},
   "outputs": [],
   "source": [
    "# 7\n",
    "Z = np.arange(10, 50)\n",
    "print(Z)\n",
    "help(np.arange)"
   ]
  },
  {
   "cell_type": "code",
   "execution_count": null,
   "metadata": {},
   "outputs": [],
   "source": [
    "# 8\n",
    "Z = np.arange(10, 50)\n",
    "Z = np.flip(Z)\n",
    "print(Z)\n",
    "help(np.flip)"
   ]
  },
  {
   "cell_type": "code",
   "execution_count": null,
   "metadata": {},
   "outputs": [],
   "source": [
    "# 9\n",
    "Z = np.arange(9).reshape(3, 3)\n",
    "print(Z)\n",
    "help(np.reshape)"
   ]
  },
  {
   "cell_type": "code",
   "execution_count": null,
   "metadata": {},
   "outputs": [],
   "source": [
    "# 10\n",
    "Z = np.array([1, 2, 0, 0, 4, 0])\n",
    "print(np.nonzero(Z))\n",
    "help(np.nonzero)"
   ]
  },
  {
   "cell_type": "code",
   "execution_count": null,
   "metadata": {},
   "outputs": [],
   "source": [
    "# 11\n",
    "Z = np.eye(3)\n",
    "print(Z)\n",
    "help(np.eye)"
   ]
  },
  {
   "cell_type": "code",
   "execution_count": null,
   "metadata": {},
   "outputs": [],
   "source": [
    "# 12\n",
    "Z = np.random.random((3, 3, 3))\n",
    "print(Z)\n",
    "help(np.random.random)"
   ]
  },
  {
   "cell_type": "code",
   "execution_count": null,
   "metadata": {},
   "outputs": [],
   "source": [
    "# 13\n",
    "Z = np.random.random((10, 10))\n",
    "Zmin, Zmax = Z.min(), Z.max()\n",
    "print(Zmin, Zmax)\n",
    "help(np.min)"
   ]
  },
  {
   "cell_type": "code",
   "execution_count": null,
   "metadata": {},
   "outputs": [],
   "source": [
    "# 14\n",
    "Z = np.random.random(30)\n",
    "m = Z.mean()\n",
    "print(m)\n",
    "help(np.mean)"
   ]
  },
  {
   "cell_type": "code",
   "execution_count": null,
   "metadata": {},
   "outputs": [],
   "source": [
    "# 15\n",
    "Z = np.ones((10, 10))\n",
    "Z[1:-1, 1:-1] = 0\n",
    "print(Z)\n",
    "help(np.ones)"
   ]
  },
  {
   "cell_type": "code",
   "execution_count": null,
   "metadata": {},
   "outputs": [],
   "source": [
    "# 16\n",
    "Z = np.ones((5, 5))\n",
    "Z = np.pad(Z, pad_width=1, mode='constant', constant_values=0)\n",
    "print(Z)\n",
    "help(np.pad)"
   ]
  },
  {
   "cell_type": "code",
   "execution_count": null,
   "metadata": {},
   "outputs": [],
   "source": [
    "# 17\n",
    "print(0 * np.nan)\n",
    "print(np.nan == np.nan)\n",
    "print(np.inf > np.nan)\n",
    "print(np.nan - np.nan)\n",
    "print(0.3 == 3 * 0.1)\n",
    "help(np.isnan)"
   ]
  },
  {
   "cell_type": "code",
   "execution_count": null,
   "metadata": {},
   "outputs": [],
   "source": [
    "# 18\n",
    "Z = np.diag(1 + np.arange(4), k=-1)\n",
    "print(Z)\n",
    "help(np.diag)"
   ]
  },
  {
   "cell_type": "code",
   "execution_count": null,
   "metadata": {},
   "outputs": [],
   "source": [
    "# 19\n",
    "Z = np.zeros((8, 8), dtype=int)\n",
    "Z[1::2, ::2] = 1\n",
    "Z[::2, 1::2] = 1\n",
    "print(Z)\n",
    "help(np.zeros)"
   ]
  },
  {
   "cell_type": "code",
   "execution_count": null,
   "metadata": {},
   "outputs": [],
   "source": [
    "# 20\n",
    "print(np.unravel_index(100, (6, 7, 8)))\n",
    "help(np.unravel_index)"
   ]
  },
  {
   "cell_type": "code",
   "execution_count": null,
   "metadata": {},
   "outputs": [],
   "source": [
    "# 21\n",
    "Z = np.tile(np.array([[0, 1], [1, 0]]), (4, 4))\n",
    "print(Z)\n",
    "help(np.tile)"
   ]
  },
  {
   "cell_type": "code",
   "execution_count": null,
   "metadata": {},
   "outputs": [],
   "source": [
    "# 22\n",
    "Z = np.random.random((5, 5))\n",
    "Z = (Z - np.mean(Z)) / np.std(Z)\n",
    "print(Z)\n",
    "help(np.std)"
   ]
  },
  {
   "cell_type": "code",
   "execution_count": null,
   "metadata": {},
   "outputs": [],
   "source": [
    "# 23\n",
    "color = np.dtype([('r', np.ubyte), ('g', np.ubyte), ('b', np.ubyte), ('a', np.ubyte)])\n",
    "print(color)\n",
    "help(np.dtype)"
   ]
  },
  {
   "cell_type": "code",
   "execution_count": null,
   "metadata": {},
   "outputs": [],
   "source": [
    "# 24\n",
    "Z = np.ones((5, 3)) @ np.ones((3, 2))\n",
    "print(Z)\n",
    "help(np.dot)"
   ]
  },
  {
   "cell_type": "code",
   "execution_count": null,
   "metadata": {},
   "outputs": [],
   "source": [
    "# 25\n",
    "Z = np.arange(11)\n",
    "Z[(3 < Z) & (Z <= 8)] *= -1\n",
    "print(Z)\n",
    "help(np.where)"
   ]
  },
  {
   "cell_type": "code",
   "execution_count": null,
   "metadata": {},
   "outputs": [],
   "source": [
    "# 26\n",
    "print(sum(range(5), -1))\n",
    "from numpy import *\n",
    "print(sum(range(5), -1))\n",
    "help(np.sum)"
   ]
  },
  {
   "cell_type": "code",
   "execution_count": null,
   "metadata": {},
   "outputs": [],
   "source": [
    "# 27\n",
    "Z = np.array(1)\n",
    "print(Z**Z)\n",
    "print(2 << Z >> 2)\n",
    "print(Z < -Z)\n",
    "print(1j * Z)\n",
    "print(Z / 1 / 1)\n",
    "help(np.power)"
   ]
  },
  {
   "cell_type": "code",
   "execution_count": null,
   "metadata": {},
   "outputs": [],
   "source": [
    "# 28\n",
    "print(np.array(0) / np.array(0))\n",
    "print(np.array(0) // np.array(0))\n",
    "print(np.array([np.nan]).astype(int).astype(float))\n",
    "help(np.seterr)"
   ]
  },
  {
   "cell_type": "code",
   "execution_count": null,
   "metadata": {},
   "outputs": [],
   "source": [
    "# 29\n",
    "Z = np.random.uniform(-10, +10, 10)\n",
    "print(np.copysign(np.ceil(np.abs(Z)), Z))\n",
    "help(np.copysign)"
   ]
  },
  {
   "cell_type": "code",
   "execution_count": null,
   "metadata": {},
   "outputs": [],
   "source": [
    "# 30\n",
    "Z1 = np.random.randint(0, 10, 10)\n",
    "Z2 = np.random.randint(0, 10, 10)\n",
    "print(np.intersect1d(Z1, Z2))\n",
    "help(np.intersect1d)"
   ]
  },
  {
   "cell_type": "code",
   "execution_count": null,
   "metadata": {},
   "outputs": [],
   "source": [
    "# 31\n",
    "np.seterr(all='ignore')\n",
    "print(np.sqrt(-1) == np.emath.sqrt(-1))\n",
    "help(np.seterr)"
   ]
  },
  {
   "cell_type": "code",
   "execution_count": null,
   "metadata": {},
   "outputs": [],
   "source": [
    "# 32\n",
    "yesterday = np.datetime64('today', 'D') - np.timedelta64(1, 'D')\n",
    "today = np.datetime64('today', 'D')\n",
    "tomorrow = np.datetime64('today', 'D') + np.timedelta64(1, 'D')\n",
    "print(yesterday, today, tomorrow)\n",
    "help(np.datetime64)"
   ]
  },
  {
   "cell_type": "code",
   "execution_count": null,
   "metadata": {},
   "outputs": [],
   "source": [
    "# 33\n",
    "Z = np.arange('2016-07', '2016-08', dtype='datetime64[D]')\n",
    "print(Z)\n",
    "help(np.arange)"
   ]
  },
  {
   "cell_type": "code",
   "execution_count": null,
   "metadata": {},
   "outputs": [],
   "source": [
    "# 34\n",
    "Z = np.zeros(10)\n",
    "Z.flags.writeable = False\n",
    "# Z[0] = 1  # This would raise an error\n",
    "help(np.ndarray.flags)"
   ]
  },
  {
   "cell_type": "code",
   "execution_count": null,
   "metadata": {},
   "outputs": [],
   "source": [
    "# 35\n",
    "Z = np.random.random((10, 2))\n",
    "X, Y = Z[:, 0], Z[:, 1]\n",
    "R = np.sqrt(X**2 + Y**2)\n",
    "T = np.arctan2(Y, X)\n",
    "print(R)\n",
    "print(T)\n",
    "help(np.arctan2)"
   ]
  },
  {
   "cell_type": "code",
   "execution_count": null,
   "metadata": {},
   "outputs": [],
   "source": [
    "# 36\n",
    "Z = np.random.random(10)\n",
    "Z[Z.argmax()] = 0\n",
    "print(Z)\n",
    "help(np.argmax)"
   ]
  },
  {
   "cell_type": "code",
   "execution_count": null,
   "metadata": {},
   "outputs": [],
   "source": [
    "# 37\n",
    "Z = np.zeros((5, 5), [('x', float), ('y', float)])\n",
    "Z['x'], Z['y'] = np.meshgrid(np.linspace(0, 1, 5), np.linspace(0, 1, 5))\n",
    "print(Z)\n",
    "help(np.meshgrid)"
   ]
  },
  {
   "cell_type": "code",
   "execution_count": null,
   "metadata": {},
   "outputs": [],
   "source": [
    "# 38\n",
    "X = np.arange(8)\n",
    "Y = X + 0.5\n",
    "C = 1.0 / np.subtract.outer(X, Y)\n",
    "print(np.linalg.det(C))\n",
    "help(np.linalg.det)"
   ]
  },
  {
   "cell_type": "code",
   "execution_count": null,
   "metadata": {},
   "outputs": [],
   "source": [
    "# 39\n",
    "for dtype in [np.int8, np.int32, np.int64]:\n",
    "    print(np.iinfo(dtype).min)\n",
    "    print(np.iinfo(dtype).max)\n",
    "for dtype in [np.float32, np.float64]:\n",
    "    print(np.finfo(dtype).min)\n",
    "    print(np.finfo(dtype).max)\n",
    "help(np.iinfo)"
   ]
  },
  {
   "cell_type": "code",
   "execution_count": null,
   "metadata": {},
   "outputs": [],
   "source": [
    "# 40\n",
    "np.set_printoptions(threshold=np.inf)\n",
    "Z = np.zeros((16, 16))\n",
    "print(Z)\n",
    "help(np.set_printoptions)"
   ]
  },
  {
   "cell_type": "code",
   "execution_count": null,
   "metadata": {},
   "outputs": [],
   "source": [
    "# 41\n",
    "Z = np.arange(100)\n",
    "v = np.random.uniform(0, 100)\n",
    "index = (np.abs(Z - v)).argmin()\n",
    "print(Z[index])\n",
    "help(np.argmin)"
   ]
  },
  {
   "cell_type": "code",
   "execution_count": null,
   "metadata": {},
   "outputs": [],
   "source": [
    "# 42\n",
    "Z = np.zeros(10, [ ('position', [ ('x', float), ('y', float)]), ('color', [ ('r', float), ('g', float), ('b', float)])])\n",
    "print(Z)\n",
    "help(np.zeros)"
   ]
  },
  {
   "cell_type": "code",
   "execution_count": null,
   "metadata": {},
   "outputs": [],
   "source": [
    "# 43\n",
    "Z = np.random.random(10)\n",
    "print(Z)\n",
    "Z.sort()\n",
    "print(Z)\n",
    "help(np.sort)"
   ]
  },
  {
   "cell_type": "code",
   "execution_count": null,
   "metadata": {},
   "outputs": [],
   "source": [
    "# 44\n",
    "Z = np.random.randint(0, 2, 5)\n",
    "print(Z)\n",
    "print(np.add.reduce(Z))\n",
    "help(np.add.reduce)"
   ]
  },
  {
   "cell_type": "code",
   "execution_count": null,
   "metadata": {},
   "outputs": [],
   "source": [
    "# 45\n",
    "A = np.random.randint(0, 2, 5)\n",
    "B = np.random.randint(0, 2, 5)\n",
    "equal = np.allclose(A, B)\n",
    "print(equal)\n",
    "help(np.allclose)"
   ]
  },
  {
   "cell_type": "code",
   "execution_count": null,
   "metadata": {},
   "outputs": [],
   "source": [
    "# 46\n",
    "Z = np.zeros(10)\n",
    "Z.flags.writeable = False\n",
    "help(np.ndarray.flags)"
   ]
  },
  {
   "cell_type": "code",
   "execution_count": null,
   "metadata": {},
   "outputs": [],
   "source": [
    "# 47\n",
    "Z = np.random.random((10, 2))\n",
    "X, Y = np.atleast_2d(Z[:, 0], Z[:, 1])\n",
    "D = np.sqrt((X - X.T)**2 + (Y - Y.T)**2)\n",
    "print(D)\n",
    "help(np.atleast_2d)"
   ]
  },
  {
   "cell_type": "code",
   "execution_count": null,
   "metadata": {},
   "outputs": [],
   "source": [
    "# 48\n",
    "Z = np.random.uniform(0, 1, 10)\n",
    "z = 0.5\n",
    "m = Z.flat[np.abs(Z - z).argmin()]\n",
    "print(m)\n",
    "help(np.flat)"
   ]
  },
  {
   "cell_type": "code",
   "execution_count": null,
   "metadata": {},
   "outputs": [],
   "source": [
    "# 49\n",
    "A = np.arange(25).reshape(5, 5)\n",
    "A[[0, 1]] = A[[1, 0]]\n",
    "print(A)\n",
    "help(np.reshape)"
   ]
  },
  {
   "cell_type": "code",
   "execution_count": null,
   "metadata": {},
   "outputs": [],
   "source": [
    "# 50\n",
    "Z = np.random.randint(0, 10, 10)\n",
    "print(np.bincount(Z).argmax())\n",
    "help(np.bincount)"
   ]
  },
  {
   "cell_type": "code",
   "execution_count": null,
   "metadata": {},
   "outputs": [],
   "source": [
    "# 51\n",
    "Z = np.zeros((10, 10))\n",
    "Z[np.arange(10), np.arange(10)] = 1\n",
    "print(Z)\n",
    "help(np.arange)"
   ]
  },
  {
   "cell_type": "code",
   "execution_count": null,
   "metadata": {},
   "outputs": [],
   "source": [
    "# 52\n",
    "Z = np.random.random((5, 5))\n",
    "Zmax, Zmin = Z.max(), Z.min()\n",
    "Z = (Z - Zmin) / (Zmax - Zmin)\n",
    "print(Z)\n",
    "help(np.max)"
   ]
  },
  {
   "cell_type": "code",
   "execution_count": null,
   "metadata": {},
   "outputs": [],
   "source": [
    "# 53\n",
    "n = 10\n",
    "p = 3\n",
    "Z = np.zeros((n, n))\n",
    "np.put(Z, np.random.choice(range(n * n), p, replace=False), 1)\n",
    "print(Z)\n",
    "help(np.put)"
   ]
  },
  {
   "cell_type": "code",
   "execution_count": null,
   "metadata": {},
   "outputs": [],
   "source": [
    "# 54\n",
    "X = np.random.rand(5, 10)\n",
    "Y = X - X.mean(axis=1, keepdims=True)\n",
    "print(Y)\n",
    "help(np.mean)"
   ]
  },
  {
   "cell_type": "code",
   "execution_count": null,
   "metadata": {},
   "outputs": [],
   "source": [
    "# 55\n",
    "Z = np.random.randint(0, 10, (3, 3))\n",
    "print(Z)\n",
    "print(Z[Z[:, 1].argsort()])\n",
    "help(np.argsort)"
   ]
  },
  {
   "cell_type": "code",
   "execution_count": null,
   "metadata": {},
   "outputs": [],
   "source": [
    "# 56\n",
    "Z = np.random.uniform(0, 1, (10, 10))\n",
    "U, S, V = np.linalg.svd(Z)\n",
    "rank = np.sum(S > 1e-10)\n",
    "print(rank)\n",
    "help(np.linalg.svd)"
   ]
  },
  {
   "cell_type": "code",
   "execution_count": null,
   "metadata": {},
   "outputs": [],
   "source": [
    "# 57\n",
    "Z = np.random.randint(0, 10, 50)\n",
    "print(np.unique(Z))\n",
    "help(np.unique)"
   ]
  },
  {
   "cell_type": "code",
   "execution_count": null,
   "metadata": {},
   "outputs": [],
   "source": [
    "# 58\n",
    "Z = np.random.randint(0, 2, 100)\n",
    "np.logical_not(Z, out=Z)\n",
    "print(Z)\n",
    "help(np.logical_not)"
   ]
  },
  {
   "cell_type": "code",
   "execution_count": null,
   "metadata": {},
   "outputs": [],
   "source": [
    "# 59\n",
    "Z = np.random.uniform(-1.0, 1.0, 100)\n",
    "np.negative(Z, out=Z)\n",
    "print(Z)\n",
    "help(np.negative)"
   ]
  },
  {
   "cell_type": "code",
   "execution_count": null,
   "metadata": {},
   "outputs": [],
   "source": [
    "# 60\n",
    "Z = np.random.randint(0, 10, 10)\n",
    "i = 1\n",
    "np.add.at(Z, i, 1)\n",
    "print(Z)\n",
    "help(np.add.at)"
   ]
  },
  {
   "cell_type": "code",
   "execution_count": null,
   "metadata": {},
   "outputs": [],
   "source": [
    "# 61\n",
    "Z = np.arange(10)\n",
    "np.add.reduceat(Z, [0, 4])\n",
    "print(Z)\n",
    "help(np.add.reduceat)"
   ]
  },
  {
   "cell_type": "code",
   "execution_count": null,
   "metadata": {},
   "outputs": [],
   "source": [
    "# 62\n",
    "X = np.random.randn(100, 2)\n",
    "C = np.dot(X.T, X)\n",
    "print(C)\n",
    "help(np.dot)"
   ]
  },
  {
   "cell_type": "code",
   "execution_count": null,
   "metadata": {},
   "outputs": [],
   "source": [
    "# 63\n",
    "Z = np.zeros((8, 8))\n",
    "Z[::2, ::2] = 1\n",
    "Z[1::2, 1::2] = 1\n",
    "print(Z)\n",
    "help(np.zeros)"
   ]
  },
  {
   "cell_type": "code",
   "execution_count": null,
   "metadata": {},
   "outputs": [],
   "source": [
    "# 64\n",
    "Z = np.random.random((10, 10))\n",
    "Z[np.arange(10), np.arange(10)] += 0.1\n",
    "print(Z)\n",
    "help(np.random.random)"
   ]
  },
  {
   "cell_type": "code",
   "execution_count": null,
   "metadata": {},
   "outputs": [],
   "source": [
    "# 65\n",
    "Z = np.ones((5, 5))\n",
    "Z[0] = 5\n",
    "print(Z)\n",
    "help(np.ones)"
   ]
  },
  {
   "cell_type": "code",
   "execution_count": null,
   "metadata": {},
   "outputs": [],
   "source": [
    "# 66\n",
    "Z = np.linspace(0, 1, 11, endpoint=True)[1:]\n",
    "print(Z)\n",
    "help(np.linspace)"
   ]
  },
  {
   "cell_type": "code",
   "execution_count": null,
   "metadata": {},
   "outputs": [],
   "source": [
    "# 67\n",
    "Z = np.random.random(10)\n",
    "Z.sort()\n",
    "print(Z)\n",
    "help(np.sort)"
   ]
  },
  {
   "cell_type": "code",
   "execution_count": null,
   "metadata": {},
   "outputs": [],
   "source": [
    "# 68\n",
    "A = np.random.randint(0, 2, 5)\n",
    "B = np.random.randint(0, 2, 5)\n",
    "equal = np.array_equal(A, B)\n",
    "print(equal)\n",
    "help(np.array_equal)"
   ]
  },
  {
   "cell_type": "code",
   "execution_count": null,
   "metadata": {},
   "outputs": [],
   "source": [
    "# 69\n",
    "Z = np.arange(10)\n",
    "Z.flags.writeable = False\n",
    "help(np.ndarray.flags)"
   ]
  },
  {
   "cell_type": "code",
   "execution_count": null,
   "metadata": {},
   "outputs": [],
   "source": [
    "# 70\n",
    "Z = np.random.random((10, 2))\n",
    "X, Y = Z[:, 0], Z[:, 1]\n",
    "R = np.sqrt(X**2 + Y**2)\n",
    "T = np.arctan2(Y, X)\n",
    "print(R)\n",
    "print(T)\n",
    "help(np.arctan2)"
   ]
  },
  {
   "cell_type": "code",
   "execution_count": null,
   "metadata": {},
   "outputs": [],
   "source": [
    "# 71\n",
    "Z = np.random.random(10)\n",
    "Z[Z.argmax()] = 0\n",
    "print(Z)\n",
    "help(np.argmax)"
   ]
  },
  {
   "cell_type": "code",
   "execution_count": null,
   "metadata": {},
   "outputs": [],
   "source": [
    "# 72\n",
    "Z = np.arange(10)\n",
    "np.random.shuffle(Z)\n",
    "print(Z)\n",
    "help(np.random.shuffle)"
   ]
  },
  {
   "cell_type": "code",
   "execution_count": null,
   "metadata": {},
   "outputs": [],
   "source": [
    "# 73\n",
    "Z = np.random.random((5, 3))\n",
    "Z[Z > 0.5] = 0\n",
    "print(Z)\n",
    "help(np.random.random)"
   ]
  },
  {
   "cell_type": "code",
   "execution_count": null,
   "metadata": {},
   "outputs": [],
   "source": [
    "# 74\n",
    "Z = np.random.random(10)\n",
    "print(np.argpartition(Z, 3))\n",
    "help(np.argpartition)"
   ]
  },
  {
   "cell_type": "code",
   "execution_count": null,
   "metadata": {},
   "outputs": [],
   "source": [
    "# 75\n",
    "Z = np.ones((5, 5))\n",
    "Z[:, [0, -1]] = 0\n",
    "Z[[0, -1], :] = 0\n",
    "print(Z)\n",
    "help(np.ones)"
   ]
  },
  {
   "cell_type": "code",
   "execution_count": null,
   "metadata": {},
   "outputs": [],
   "source": [
    "# 76\n",
    "Z = np.random.randint(0, 3, (3, 10))\n",
    "print((~Z.any(axis=0)).any())\n",
    "help(np.any)"
   ]
  },
  {
   "cell_type": "code",
   "execution_count": null,
   "metadata": {},
   "outputs": [],
   "source": [
    "# 77\n",
    "Z = np.random.uniform(0, 1, 10)\n",
    "print(Z - Z.astype(int))\n",
    "help(np.astype)"
   ]
  },
  {
   "cell_type": "code",
   "execution_count": null,
   "metadata": {},
   "outputs": [],
   "source": [
    "# 78\n",
    "Z = np.random.randint(0, 10, (5, 5))\n",
    "print(np.diagonal(Z))\n",
    "help(np.diagonal)"
   ]
  },
  {
   "cell_type": "code",
   "execution_count": null,
   "metadata": {},
   "outputs": [],
   "source": [
    "# 79\n",
    "Z = np.random.random((5, 5))\n",
    "print(np.trace(Z))\n",
    "help(np.trace)"
   ]
  },
  {
   "cell_type": "code",
   "execution_count": null,
   "metadata": {},
   "outputs": [],
   "source": [
    "# 80\n",
    "Z = np.random.random((5, 5))\n",
    "print(np.linalg.inv(Z))\n",
    "help(np.linalg.inv)"
   ]
  },
  {
   "cell_type": "code",
   "execution_count": null,
   "metadata": {},
   "outputs": [],
   "source": [
    "# 81\n",
    "Z = np.random.random((5, 5))\n",
    "Q, R = np.linalg.qr(Z)\n",
    "print(Q)\n",
    "print(R)\n",
    "help(np.linalg.qr)"
   ]
  },
  {
   "cell_type": "code",
   "execution_count": null,
   "metadata": {},
   "outputs": [],
   "source": [
    "# 82\n",
    "Z = np.random.random((5, 5))\n",
    "print(np.linalg.cond(Z))\n",
    "help(np.linalg.cond)"
   ]
  },
  {
   "cell_type": "code",
   "execution_count": null,
   "metadata": {},
   "outputs": [],
   "source": [
    "# 83\n",
    "Z = np.random.random((5, 5))\n",
    "w, v = np.linalg.eig(Z)\n",
    "print(w)\n",
    "print(v)\n",
    "help(np.linalg.eig)"
   ]
  },
  {
   "cell_type": "code",
   "execution_count": null,
   "metadata": {},
   "outputs": [],
   "source": [
    "# 84\n",
    "Z = np.random.random((5, 5))\n",
    "print(np.linalg.matrix_rank(Z))\n",
    "help(np.linalg.matrix_rank)"
   ]
  },
  {
   "cell_type": "code",
   "execution_count": null,
   "metadata": {},
   "outputs": [],
   "source": [
    "# 85\n",
    "Z = np.random.random((5, 5))\n",
    "print(np.linalg.cholesky(Z @ Z.T))\n",
    "help(np.linalg.cholesky)"
   ]
  },
  {
   "cell_type": "code",
   "execution_count": null,
   "metadata": {},
   "outputs": [],
   "source": [
    "# 86\n",
    "Z = np.random.random((5, 3))\n",
    "print(np.linalg.lstsq(Z, np.ones(5), rcond=None)[0])\n",
    "help(np.linalg.lstsq)"
   ]
  },
  {
   "cell_type": "code",
   "execution_count": null,
   "metadata": {},
   "outputs": [],
   "source": [
    "# 87\n",
    "Z = np.random.random((5, 5))\n",
    "print(np.linalg.pinv(Z))\n",
    "help(np.linalg.pinv)"
   ]
  },
  {
   "cell_type": "code",
   "execution_count": null,
   "metadata": {},
   "outputs": [],
   "source": [
    "# 88\n",
    "Z = np.random.random((5, 5))\n",
    "print(np.linalg.norm(Z))\n",
    "help(np.linalg.norm)"
   ]
  },
  {
   "cell_type": "code",
   "execution_count": null,
   "metadata": {},
   "outputs": [],
   "source": [
    "# 89\n",
    "Z = np.random.random((5, 5))\n",
    "print(np.linalg.svd(Z)[1])\n",
    "help(np.linalg.svd)"
   ]
  },
  {
   "cell_type": "code",
   "execution_count": null,
   "metadata": {},
   "outputs": [],
   "source": [
    "# 90\n",
    "Z = np.random.random((5, 5))\n",
    "print(np.linalg.eigvals(Z))\n",
    "help(np.linalg.eigvals)"
   ]
  },
  {
   "cell_type": "code",
   "execution_count": null,
   "metadata": {},
   "outputs": [],
   "source": [
    "# 91\n",
    "Z = np.random.random(10)\n",
    "print(np.cumsum(Z))\n",
    "help(np.cumsum)"
   ]
  },
  {
   "cell_type": "code",
   "execution_count": null,
   "metadata": {},
   "outputs": [],
   "source": [
    "# 92\n",
    "Z = np.random.random(10)\n",
    "print(np.cumprod(Z))\n",
    "help(np.cumprod)"
   ]
  },
  {
   "cell_type": "code",
   "execution_count": null,
   "metadata": {},
   "outputs": [],
   "source": [
    "# 93\n",
    "Z = np.random.random(10)\n",
    "print(np.diff(Z))\n",
    "help(np.diff)"
   ]
  },
  {
   "cell_type": "code",
   "execution_count": null,
   "metadata": {},
   "outputs": [],
   "source": [
    "# 94\n",
    "Z = np.random.randint(0, 10, (3, 3))\n",
    "print(np.cross(Z[0], Z[1]))\n",
    "help(np.cross)"
   ]
  },
  {
   "cell_type": "code",
   "execution_count": null,
   "metadata": {},
   "outputs": [],
   "source": [
    "# 95\n",
    "Z = np.random.randint(0, 10, (3, 3))\n",
    "print(np.tensordot(Z, Z, axes=1))\n",
    "help(np.tensordot)"
   ]
  },
  {
   "cell_type": "code",
   "execution_count": null,
   "metadata": {},
   "outputs": [],
   "source": [
    "# 96\n",
    "Z = np.random.randint(0, 10, (3, 3))\n",
    "print(np.inner(Z[0], Z[1]))\n",
    "help(np.inner)"
   ]
  },
  {
   "cell_type": "code",
   "execution_count": null,
   "metadata": {},
   "outputs": [],
   "source": [
    "# 97\n",
    "Z = np.random.randint(0, 10, (3, 3))\n",
    "print(np.outer(Z[0], Z[1]))\n",
    "help(np.outer)"
   ]
  },
  {
   "cell_type": "code",
   "execution_count": null,
   "metadata": {},
   "outputs": [],
   "source": [
    "# 98\n",
    "Z = np.random.random(10)\n",
    "print(np.corrcoef(Z, Z))\n",
    "help(np.corrcoef)"
   ]
  },
  {
   "cell_type": "code",
   "execution_count": null,
   "metadata": {},
   "outputs": [],
   "source": [
    "# 99\n",
    "Z = np.random.random((10, 2))\n",
    "print(np.cov(Z.T))\n",
    "help(np.cov)"
   ]
  },
  {
   "cell_type": "code",
   "execution_count": null,
   "metadata": {},
   "outputs": [],
   "source": [
    "# 100\n",
    "Z = np.random.random(10)\n",
    "print(np.median(Z))\n",
    "help(np.median)"
   ]
  }
 ],
 "metadata": {
  "kernelspec": {
   "display_name": "Python 3",
   "language": "python",
   "name": "python3"
  },
  "language_info": {
   "codemirror_mode": {
    "name": "ipython",
    "version": 3
   },
   "file_extension": ".py",
   "mimetype": "text/x-python",
   "name": "python",
   "nbconvert_exporter": "python",
   "pygments_lexer": "ipython3",
   "version": "3.x"
  }
 },
 "nbformat": 4,
 "nbformat_minor": 4
}