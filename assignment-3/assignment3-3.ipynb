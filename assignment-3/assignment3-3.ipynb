{
 "cells": [
  {
   "cell_type": "markdown",
   "metadata": {},
   "source": [
    "# 10 Matplotlib Graphs with Meaning"
   ]
  },
  {
   "cell_type": "code",
   "execution_count": null,
   "metadata": {},
   "outputs": [],
   "source": [
    "import matplotlib.pyplot as plt\n",
    "import numpy as np"
   ]
  },
  {
   "cell_type": "code",
   "execution_count": null,
   "metadata": {},
   "outputs": [],
   "source": [
    "# 1. Line Graph: Stock Price Trend\n",
    "days = np.arange(1, 31)\n",
    "price = np.random.normal(100, 10, 30).cumsum()\n",
    "plt.plot(days, price, 'b-')\n",
    "plt.title('Stock Price Over 30 Days')\n",
    "plt.xlabel('Day')\n",
    "plt.ylabel('Price')\n",
    "plt.show()"
   ]
  },
  {
   "cell_type": "code",
   "execution_count": null,
   "metadata": {},
   "outputs": [],
   "source": [
    "# 2. Bar Graph: Monthly Sales\n",
    "months = ['Jan', 'Feb', 'Mar', 'Apr']\n",
    "sales = [200, 250, 300, 280]\n",
    "plt.bar(months, sales, color='green')\n",
    "plt.title('Monthly Sales')\n",
    "plt.xlabel('Month')\n",
    "plt.ylabel('Sales')\n",
    "plt.show()"
   ]
  },
  {
   "cell_type": "code",
   "execution_count": null,
   "metadata": {},
   "outputs": [],
   "source": [
    "# 3. Pie Chart: Market Share\n",
    "companies = ['A', 'B', 'C', 'D']\n",
    "shares = [35, 25, 20, 20]\n",
    "plt.pie(shares, labels=companies, autopct='%1.1f%%')\n",
    "plt.title('Market Share Distribution')\n",
    "plt.show()"
   ]
  },
  {
   "cell_type": "code",
   "execution_count": null,
   "metadata": {},
   "outputs": [],
   "source": [
    "# 4. Scatter Plot: Height vs Weight\n",
    "height = np.random.normal(170, 10, 50)\n",
    "weight = height * 0.45 + np.random.normal(0, 5, 50)\n",
    "plt.scatter(height, weight, color='red')\n",
    "plt.title('Height vs Weight')\n",
    "plt.xlabel('Height (cm)')\n",
    "plt.ylabel('Weight (kg)')\n",
    "plt.show()"
   ]
  },
  {
   "cell_type": "code",
   "execution_count": null,
   "metadata": {},
   "outputs": [],
   "source": [
    "# 5. Histogram: Exam Scores\n",
    "scores = np.random.normal(75, 10, 100)\n",
    "plt.hist(scores, bins=10, color='purple')\n",
    "plt.title('Distribution of Exam Scores')\n",
    "plt.xlabel('Score')\n",
    "plt.ylabel('Frequency')\n",
    "plt.show()"
   ]
  },
  {
   "cell_type": "code",
   "execution_count": null,
   "metadata": {},
   "outputs": [],
   "source": [
    "# 6. Area Plot: Cumulative Revenue\n",
    "months = np.arange(1, 13)\n",
    "revenue = np.random.randint(10, 50, 12).cumsum()\n",
    "plt.fill_between(months, revenue, color='orange')\n",
    "plt.title('Cumulative Revenue Over Year')\n",
    "plt.xlabel('Month')\n",
    "plt.ylabel('Revenue')\n",
    "plt.show()"
   ]
  },
  {
   "cell_type": "code",
   "execution_count": null,
   "metadata": {},
   "outputs": [],
   "source": [
    "# 7. Box Plot: Temperature by Season\n",
    "spring = np.random.normal(20, 5, 100)\n",
    "summer = np.random.normal(30, 5, 100)\n",
    "fall = np.random.normal(15, 5, 100)\n",
    "winter = np.random.normal(5, 5, 100)\n",
    "plt.boxplot([spring, summer, fall, winter], labels=['Spring', 'Summer', 'Fall', 'Winter'])\n",
    "plt.title('Temperature Distribution by Season')\n",
    "plt.ylabel('Temperature (°C)')\n",
    "plt.show()"
   ]
  },
  {
   "cell_type": "code",
   "execution_count": null,
   "metadata": {},
   "outputs": [],
   "source": [
    "# 8. Stem Plot: Signal Peaks\n",
    "x = np.linspace(0, 10, 20)\n",
    "y = np.sin(x)\n",
    "plt.stem(x, y, linefmt='b-', markerfmt='bo')\n",
    "plt.title('Signal Peaks')\n",
    "plt.xlabel('Time')\n",
    "plt.ylabel('Amplitude')\n",
    "plt.show()"
   ]
  },
  {
   "cell_type": "code",
   "execution_count": null,
   "metadata": {},
   "outputs": [],
   "source": [
    "# 9. Error Bar Plot: Measurement Uncertainty\n",
    "x = np.arange(5)\n",
    "y = [10, 20, 15, 25, 30]\n",
    "errors = [1, 2, 1.5, 2.5, 3]\n",
    "plt.errorbar(x, y, yerr=errors, fmt='o-', capsize=5)\n",
    "plt.title('Measurement with Uncertainty')\n",
    "plt.xlabel('Sample')\n",
    "plt.ylabel('Value')\n",
    "plt.show()"
   ]
  },
  {
   "cell_type": "code",
   "execution_count": null,
   "metadata": {},
   "outputs": [],
   "source": [
    "# 10. Contour Plot: Elevation Map\n",
    "X, Y = np.meshgrid(np.linspace(-5, 5, 100), np.linspace(-5, 5, 100))\n",
    "Z = np.sin(X) + np.cos(Y)\n",
    "plt.contour(X, Y, Z, levels=10)\n",
    "plt.title('Elevation Contour Map')\n",
    "plt.xlabel('X')\n",
    "plt.ylabel('Y')\n",
    "plt.show()"
   ]
  }
 ],
 "metadata": {
  "kernelspec": {
   "display_name": "Python 3",
   "language": "python",
   "name": "python3"
  },
  "language_info": {
   "codemirror_mode": {
    "name": "ipython",
    "version": 3
   },
   "file_extension": ".py",
   "mimetype": "text/x-python",
   "name": "python",
   "nbconvert_exporter": "python",
   "pygments_lexer": "ipython3",
   "version": "3.x"
  }
 },
 "nbformat": 4,
 "nbformat_minor": 4
}