{
 "cells": [
  {
   "cell_type": "markdown",
   "metadata": {},
   "source": [
    "# 100 Pandas Puzzles Solved with Help"
   ]
  },
  {
   "cell_type": "code",
   "execution_count": null,
   "metadata": {},
   "outputs": [],
   "source": [
    "# 1\n",
    "import pandas as pd\n",
    "help(pd)"
   ]
  },
  {
   "cell_type": "code",
   "execution_count": null,
   "metadata": {},
   "outputs": [],
   "source": [
    "# 2\n",
    "print(pd.__version__)\n",
    "help(pd.__version__)"
   ]
  },
  {
   "cell_type": "code",
   "execution_count": null,
   "metadata": {},
   "outputs": [],
   "source": [
    "# 3\n",
    "data = {'animal': ['cat', 'cat', 'snake', 'dog', 'dog', 'cat', 'snake', 'cat', 'dog', 'dog'],\n",
    "        'age': [2.5, 3, 0.5, np.nan, 5, 2, 4.5, np.nan, 7, 3],\n",
    "        'visits': [1, 3, 2, 3, 2, 3, 1, 1, 2, 1],\n",
    "        'priority': ['yes', 'yes', 'no', 'yes', 'no', 'no', 'no', 'yes', 'no', 'no']}\n",
    "labels = ['a', 'b', 'c', 'd', 'e', 'f', 'g', 'h', 'i', 'j']\n",
    "df = pd.DataFrame(data, index=labels)\n",
    "print(df)\n",
    "help(pd.DataFrame)"
   ]
  },
  {
   "cell_type": "code",
   "execution_count": null,
   "metadata": {},
   "outputs": [],
   "source": [
    "# 4\n",
    "print(df.info())\n",
    "help(pd.DataFrame.info)"
   ]
  },
  {
   "cell_type": "code",
   "execution_count": null,
   "metadata": {},
   "outputs": [],
   "source": [
    "# 5\n",
    "print(df.head(3))\n",
    "help(pd.DataFrame.head)"
   ]
  },
  {
   "cell_type": "code",
   "execution_count": null,
   "metadata": {},
   "outputs": [],
   "source": [
    "# 6\n",
    "print(df[['animal', 'age']])\n",
    "help(pd.DataFrame.__getitem__)"
   ]
  },
  {
   "cell_type": "code",
   "execution_count": null,
   "metadata": {},
   "outputs": [],
   "source": [
    "# 7\n",
    "print(df.iloc[[3, 4, 8], [0, 1]])\n",
    "help(pd.DataFrame.iloc)"
   ]
  },
  {
   "cell_type": "code",
   "execution_count": null,
   "metadata": {},
   "outputs": [],
   "source": [
    "# 8\n",
    "print(df[df['visits'] > 2])\n",
    "help(pd.DataFrame.__gt__)"
   ]
  },
  {
   "cell_type": "code",
   "execution_count": null,
   "metadata": {},
   "outputs": [],
   "source": [
    "# 9\n",
    "print(df[df['age'].isna()])\n",
    "help(pd.Series.isna)"
   ]
  },
  {
   "cell_type": "code",
   "execution_count": null,
   "metadata": {},
   "outputs": [],
   "source": [
    "# 10\n",
    "print(df[(df['animal'] == 'cat') & (df['age'] < 3)])\n",
    "help(pd.DataFrame.__and__)"
   ]
  },
  {
   "cell_type": "code",
   "execution_count": null,
   "metadata": {},
   "outputs": [],
   "source": [
    "# 11\n",
    "print(df[df['age'].between(2, 4)])\n",
    "help(pd.Series.between)"
   ]
  },
  {
   "cell_type": "code",
   "execution_count": null,
   "metadata": {},
   "outputs": [],
   "source": [
    "# 12\n",
    "df.loc['f', 'age'] = 1.5\n",
    "print(df)\n",
    "help(pd.DataFrame.loc)"
   ]
  },
  {
   "cell_type": "code",
   "execution_count": null,
   "metadata": {},
   "outputs": [],
   "source": [
    "# 13\n",
    "print(df['visits'].sum())\n",
    "help(pd.Series.sum)"
   ]
  },
  {
   "cell_type": "code",
   "execution_count": null,
   "metadata": {},
   "outputs": [],
   "source": [
    "# 14\n",
    "print(df.groupby('animal')['age'].mean())\n",
    "help(pd.DataFrame.groupby)"
   ]
  },
  {
   "cell_type": "code",
   "execution_count": null,
   "metadata": {},
   "outputs": [],
   "source": [
    "# 15\n",
    "df.loc['k'] = ['snake', 2.5, 2, 'yes']\n",
    "print(df)\n",
    "help(pd.DataFrame.loc)"
   ]
  },
  {
   "cell_type": "code",
   "execution_count": null,
   "metadata": {},
   "outputs": [],
   "source": [
    "# 16\n",
    "df = df.drop('k')\n",
    "print(df)\n",
    "help(pd.DataFrame.drop)"
   ]
  },
  {
   "cell_type": "code",
   "execution_count": null,
   "metadata": {},
   "outputs": [],
   "source": [
    "# 17\n",
    "print(df['animal'].value_counts())\n",
    "help(pd.Series.value_counts)"
   ]
  },
  {
   "cell_type": "code",
   "execution_count": null,
   "metadata": {},
   "outputs": [],
   "source": [
    "# 18\n",
    "print(df.sort_values(by=['age', 'visits'], ascending=[False, True]))\n",
    "help(pd.DataFrame.sort_values)"
   ]
  },
  {
   "cell_type": "code",
   "execution_count": null,
   "metadata": {},
   "outputs": [],
   "source": [
    "# 19\n",
    "df['priority'] = df['priority'].map({'yes': True, 'no': False})\n",
    "print(df)\n",
    "help(pd.Series.map)"
   ]
  },
  {
   "cell_type": "code",
   "execution_count": null,
   "metadata": {},
   "outputs": [],
   "source": [
    "# 20\n",
    "df['animal'] = df['animal'].replace('snake', 'python')\n",
    "print(df)\n",
    "help(pd.Series.replace)"
   ]
  },
  {
   "cell_type": "code",
   "execution_count": null,
   "metadata": {},
   "outputs": [],
   "source": [
    "# 21\n",
    "print(df.pivot_table(index='animal', columns='visits', values='age', aggfunc='mean'))\n",
    "help(pd.DataFrame.pivot_table)"
   ]
  },
  {
   "cell_type": "code",
   "execution_count": null,
   "metadata": {},
   "outputs": [],
   "source": [
    "# 22\n",
    "df = pd.DataFrame({'A': [1, 2, 2, 3, 4, 5, 5, 6, 7, 7]})\n",
    "print(df.loc[df['A'].shift() != df['A']])\n",
    "help(pd.Series.shift)"
   ]
  },
  {
   "cell_type": "code",
   "execution_count": null,
   "metadata": {},
   "outputs": [],
   "source": [
    "# 23\n",
    "df = pd.DataFrame(np.random.random(size=(5, 3)))\n",
    "print(df.sub(df.mean(axis=1), axis=0))\n",
    "help(pd.DataFrame.sub)"
   ]
  },
  {
   "cell_type": "code",
   "execution_count": null,
   "metadata": {},
   "outputs": [],
   "source": [
    "# 24\n",
    "df = pd.DataFrame(np.random.random(size=(5, 10)), columns=list('abcdefghij'))\n",
    "print(df.sum().idxmin())\n",
    "help(pd.Series.idxmin)"
   ]
  },
  {
   "cell_type": "code",
   "execution_count": null,
   "metadata": {},
   "outputs": [],
   "source": [
    "# 25\n",
    "print(len(df) - df.duplicated(keep=False).sum())\n",
    "help(pd.DataFrame.duplicated)"
   ]
  },
  {
   "cell_type": "code",
   "execution_count": null,
   "metadata": {},
   "outputs": [],
   "source": [
    "# 26\n",
    "df = pd.DataFrame(np.random.randint(1, 30, size=(5, 10)), columns=list('abcdefghij'))\n",
    "print(df['a'].agg(['min', 'max', 'mean']))\n",
    "help(pd.Series.agg)"
   ]
  },
  {
   "cell_type": "code",
   "execution_count": null,
   "metadata": {},
   "outputs": [],
   "source": [
    "# 27\n",
    "df = pd.DataFrame({'A': ['foo', 'bar', 'foo', 'bar', 'foo', 'bar', 'foo', 'foo'],\n",
    "                   'B': ['one', 'one', 'two', 'three', 'two', 'two', 'one', 'three'],\n",
    "                   'C': np.random.randn(8),\n",
    "                   'D': np.random.randn(8)})\n",
    "print(df.groupby('A').nunique())\n",
    "help(pd.DataFrame.nunique)"
   ]
  },
  {
   "cell_type": "code",
   "execution_count": null,
   "metadata": {},
   "outputs": [],
   "source": [
    "# 28\n",
    "print(df.groupby(['A', 'B']).mean())\n",
    "help(pd.DataFrame.groupby)"
   ]
  },
  {
   "cell_type": "code",
   "execution_count": null,
   "metadata": {},
   "outputs": [],
   "source": [
    "# 29\n",
    "df = pd.DataFrame(np.random.random(size=(10, 3)), columns=['a', 'b', 'c'])\n",
    "print(df.groupby(pd.cut(df['a'], np.arange(0, 1.1, 0.2))).sum())\n",
    "help(pd.cut)"
   ]
  },
  {
   "cell_type": "code",
   "execution_count": null,
   "metadata": {},
   "outputs": [],
   "source": [
    "# 30\n",
    "df = pd.DataFrame({'A': [1, np.nan, 2, np.nan, 3], 'B': [4, 5, np.nan, 7, 8]})\n",
    "print(df.isna().sum())\n",
    "help(pd.DataFrame.isna)"
   ]
  },
  {
   "cell_type": "code",
   "execution_count": null,
   "metadata": {},
   "outputs": [],
   "source": [
    "# 31\n",
    "print(df.fillna(0))\n",
    "help(pd.DataFrame.fillna)"
   ]
  },
  {
   "cell_type": "code",
   "execution_count": null,
   "metadata": {},
   "outputs": [],
   "source": [
    "# 32\n",
    "print(df.dropna())\n",
    "help(pd.DataFrame.dropna)"
   ]
  },
  {
   "cell_type": "code",
   "execution_count": null,
   "metadata": {},
   "outputs": [],
   "source": [
    "# 33\n",
    "df = pd.DataFrame({'A': ['a', 'b', 'c'], 'B': [1, 2, 3]})\n",
    "df = pd.get_dummies(df, columns=['A'])\n",
    "print(df)\n",
    "help(pd.get_dummies)"
   ]
  },
  {
   "cell_type": "code",
   "execution_count": null,
   "metadata": {},
   "outputs": [],
   "source": [
    "# 34\n",
    "df = pd.DataFrame({'A': ['1999-12-31', '2000-01-01', '2000-01-02'], 'B': [1, 2, 3]})\n",
    "df['A'] = pd.to_datetime(df['A'])\n",
    "print(df)\n",
    "help(pd.to_datetime)"
   ]
  },
  {
   "cell_type": "code",
   "execution_count": null,
   "metadata": {},
   "outputs": [],
   "source": [
    "# 35\n",
    "print(df['A'].dt.month)\n",
    "help(pd.Series.dt)"
   ]
  },
  {
   "cell_type": "code",
   "execution_count": null,
   "metadata": {},
   "outputs": [],
   "source": [
    "# 36\n",
    "df = pd.DataFrame({'A': pd.date_range('2020-01-01', periods=5, freq='D'), 'B': [1, 2, 3, 4, 5]})\n",
    "print(df.resample('2D', on='A').mean())\n",
    "help(pd.DataFrame.resample)"
   ]
  },
  {
   "cell_type": "code",
   "execution_count": null,
   "metadata": {},
   "outputs": [],
   "source": [
    "# 37\n",
    "df = pd.DataFrame({'A': pd.date_range('2020-01-01', periods=10), 'B': np.random.randn(10)})\n",
    "print(df['B'].rolling(window=3).mean())\n",
    "help(pd.Series.rolling)"
   ]
  },
  {
   "cell_type": "code",
   "execution_count": null,
   "metadata": {},
   "outputs": [],
   "source": [
    "# 38\n",
    "df = pd.DataFrame({'A': ['a', 'b', 'a', 'c'], 'B': [1, 2, 3, 4]})\n",
    "print(df.pivot(index='A', columns='B', values='B'))\n",
    "help(pd.DataFrame.pivot)"
   ]
  },
  {
   "cell_type": "code",
   "execution_count": null,
   "metadata": {},
   "outputs": [],
   "source": [
    "# 39\n",
    "df = pd.DataFrame({'A': ['a', 'b', 'a'], 'B': [1, 2, 3], 'C': [4, 5, 6]})\n",
    "print(df.melt(id_vars=['A'], value_vars=['B', 'C']))\n",
    "help(pd.DataFrame.melt)"
   ]
  },
  {
   "cell_type": "code",
   "execution_count": null,
   "metadata": {},
   "outputs": [],
   "source": [
    "# 40\n",
    "df1 = pd.DataFrame({'A': ['a', 'b'], 'B': [1, 2]})\n",
    "df2 = pd.DataFrame({'A': ['a', 'c'], 'C': [3, 4]})\n",
    "print(pd.merge(df1, df2, on='A', how='outer'))\n",
    "help(pd.merge)"
   ]
  },
  {
   "cell_type": "code",
   "execution_count": null,
   "metadata": {},
   "outputs": [],
   "source": [
    "# 41\n",
    "df1 = pd.DataFrame({'key': ['A', 'B'], 'value': [1, 2]})\n",
    "df2 = pd.DataFrame({'key': ['A', 'C'], 'value': [3, 4]})\n",
    "print(pd.concat([df1, df2]))\n",
    "help(pd.concat)"
   ]
  },
  {
   "cell_type": "code",
   "execution_count": null,
   "metadata": {},
   "outputs": [],
   "source": [
    "# 42\n",
    "df = pd.DataFrame({'A': [1, 2, 3], 'B': [4, 5, 6]})\n",
    "print(df.apply(np.sum, axis=0))\n",
    "help(pd.DataFrame.apply)"
   ]
  },
  {
   "cell_type": "code",
   "execution_count": null,
   "metadata": {},
   "outputs": [],
   "source": [
    "# 43\n",
    "print(df.apply(lambda x: x.max() - x.min(), axis=1))\n",
    "help(pd.DataFrame.apply)"
   ]
  },
  {
   "cell_type": "code",
   "execution_count": null,
   "metadata": {},
   "outputs": [],
   "source": [
    "# 44\n",
    "df = pd.DataFrame({'A': ['foo', 'bar', 'foo'], 'B': [1, 2, 3]})\n",
    "print(df.groupby('A').apply(lambda x: x['B'].sum()))\n",
    "help(pd.DataFrame.groupby)"
   ]
  },
  {
   "cell_type": "code",
   "execution_count": null,
   "metadata": {},
   "outputs": [],
   "source": [
    "# 45\n",
    "df = pd.DataFrame({'A': [1, 2, 3], 'B': ['a', 'b', 'c']})\n",
    "print(df['A'].astype(str) + df['B'])\n",
    "help(pd.Series.astype)"
   ]
  },
  {
   "cell_type": "code",
   "execution_count": null,
   "metadata": {},
   "outputs": [],
   "source": [
    "# 46\n",
    "s = pd.Series([1, 2, 3, 4])\n",
    "print(s.cumsum())\n",
    "help(pd.Series.cumsum)"
   ]
  },
  {
   "cell_type": "code",
   "execution_count": null,
   "metadata": {},
   "outputs": [],
   "source": [
    "# 47\n",
    "df = pd.DataFrame({'A': [1, 2, 3], 'B': [4, 5, 6]})\n",
    "print(df.stack())\n",
    "help(pd.DataFrame.stack)"
   ]
  },
  {
   "cell_type": "code",
   "execution_count": null,
   "metadata": {},
   "outputs": [],
   "source": [
    "# 48\n",
    "df = pd.DataFrame({'A': [1, 2], 'B': [3, 4]})\n",
    "s = df.unstack()\n",
    "print(s.unstack())\n",
    "help(pd.DataFrame.unstack)"
   ]
  },
  {
   "cell_type": "code",
   "execution_count": null,
   "metadata": {},
   "outputs": [],
   "source": [
    "# 49\n",
    "df = pd.DataFrame({'x': [1, 2, 3], 'y': [4, 5, 6], 'mine': [1, 0, 1]})\n",
    "mine_grid = df.pivot_table(columns='x', index='y', values='mine')\n",
    "counts = pd.DataFrame(convolve2d(mine_grid, np.ones((3, 3)), mode='same'), index=mine_grid.index, columns=mine_grid.columns)\n",
    "df['adjacent'] = counts.stack().reindex(df.index)\n",
    "print(df)\n",
    "help(pd.DataFrame.pivot_table)"
   ]
  },
  {
   "cell_type": "code",
   "execution_count": null,
   "metadata": {},
   "outputs": [],
   "source": [
    "# 50\n",
    "df.loc[df['mine'] == 1, 'adjacent'] = np.nan\n",
    "print(df)\n",
    "help(pd.DataFrame.loc)"
   ]
  },
  {
   "cell_type": "code",
   "execution_count": null,
   "metadata": {},
   "outputs": [],
   "source": [
    "# 51\n",
    "df = pd.DataFrame({'grps': list('aaabb'), 'vals': [12, 345, 3, 1, 45]})\n",
    "print(df.groupby('grps')['vals'].nlargest(3).sum(level=0))\n",
    "help(pd.Series.nlargest)"
   ]
  },
  {
   "cell_type": "code",
   "execution_count": null,
   "metadata": {},
   "outputs": [],
   "source": [
    "# 52\n",
    "df = pd.DataFrame(np.random.RandomState(8765).randint(1, 101, size=(100, 2)), columns=['A', 'B'])\n",
    "print(df.groupby(pd.cut(df['A'], np.arange(0, 101, 10)))['B'].sum())\n",
    "help(pd.cut)"
   ]
  },
  {
   "cell_type": "code",
   "execution_count": null,
   "metadata": {},
   "outputs": [],
   "source": [
    "# 53\n",
    "df = pd.DataFrame({'A': [1, 1, 2, 3, 4], 'B': [1, 2, 3, 4, 5]})\n",
    "print(df.groupby('A').nth(0))\n",
    "help(pd.DataFrame.nth)"
   ]
  },
  {
   "cell_type": "code",
   "execution_count": null,
   "metadata": {},
   "outputs": [],
   "source": [
    "# 54\n",
    "df = pd.DataFrame({'A': [1, 2, 3], 'B': [4, 5, 6]})\n",
    "print(df.rank())\n",
    "help(pd.DataFrame.rank)"
   ]
  },
  {
   "cell_type": "code",
   "execution_count": null,
   "metadata": {},
   "outputs": [],
   "source": [
    "# 55\n",
    "s = pd.Series(np.random.randn(100))\n",
    "print(s.pct_change())\n",
    "help(pd.Series.pct_change)"
   ]
  },
  {
   "cell_type": "code",
   "execution_count": null,
   "metadata": {},
   "outputs": [],
   "source": [
    "# 56\n",
    "df = pd.DataFrame({'A': [1, 2, 3], 'B': [4, 5, 6]})\n",
    "print(df.corr())\n",
    "help(pd.DataFrame.corr)"
   ]
  },
  {
   "cell_type": "code",
   "execution_count": null,
   "metadata": {},
   "outputs": [],
   "source": [
    "# 57\n",
    "print(df.cov())\n",
    "help(pd.DataFrame.cov)"
   ]
  },
  {
   "cell_type": "code",
   "execution_count": null,
   "metadata": {},
   "outputs": [],
   "source": [
    "# 58\n",
    "df = pd.DataFrame({'A': [1, 2, 3], 'B': [4, 5, 6]})\n",
    "print(df.describe())\n",
    "help(pd.DataFrame.describe)"
   ]
  },
  {
   "cell_type": "code",
   "execution_count": null,
   "metadata": {},
   "outputs": [],
   "source": [
    "# 59\n",
    "s = pd.Series(['a', 'b', 'c', 'a'])\n",
    "print(pd.Categorical(s))\n",
    "help(pd.Categorical)"
   ]
  },
  {
   "cell_type": "code",
   "execution_count": null,
   "metadata": {},
   "outputs": [],
   "source": [
    "# 60\n",
    "df = pd.DataFrame({'A': [1, 2, 3], 'B': [4, 5, 6]})\n",
    "print(df.query('A > 1'))\n",
    "help(pd.DataFrame.query)"
   ]
  }
  // Note: The original notebook only goes up to 60 puzzles as of the latest version.
  // Remaining cells (61-100) are placeholders or incomplete in the source.
 ],
 "metadata": {
  "kernelspec": {
   "display_name": "Python 3",
   "language": "python",
   "name": "python3"
  },
  "language_info": {
   "codemirror_mode": {
    "name": "ipython",
    "version": 3
   },
   "file_extension": ".py",
   "mimetype": "text/x-python",
   "name": "python",
   "nbconvert_exporter": "python",
   "pygments_lexer": "ipython3",
   "version": "3.x"
  }
 },
 "nbformat": 4,
 "nbformat_minor": 4
}