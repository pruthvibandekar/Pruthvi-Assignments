{
 "cells": [
  {
   "cell_type": "markdown",
   "metadata": {},
   "source": [
    "# Python Data Type Methods with help()\n",
    "This notebook demonstrates common methods for Python's built-in data types (`int`, `float`, `complex`, `list`, `tuple`, `str`, `set`, `dict`, `bool`) and uses `help()` to explore their documentation."
   ]
  },
  {
   "cell_type": "code",
   "execution_count": null,
   "metadata": {},
   "outputs": [],
   "source": [
    "# Integer (int)\n",
    "x = 5\n",
    "print('int bit_length:', x.bit_length())  # Number of bits\n",
    "print('int to_bytes:', x.to_bytes(2, byteorder='big'))  # Convert to bytes\n",
    "# Use help() to explore int methods\n",
    "print('\\nExploring int with help():')\n",
    "help(int)  # Displays full documentation for int"
   ]
  },
  {
   "cell_type": "code",
   "execution_count": null,
   "metadata": {},
   "outputs": [],
   "source": [
    "# Float (float)\n",
    "y = 3.5\n",
    "print('float is_integer:', y.is_integer())  # False\n",
    "print('float as_integer_ratio:', y.as_integer_ratio())  # (7, 2)\n",
    "# Use help() to explore float methods\n",
    "print('\\nExploring float with help():')\n",
    "help(float)"
   ]
  },
  {
   "cell_type": "code",
   "execution_count": null,
   "metadata": {},
   "outputs": [],
   "source": [
    "# Complex (complex)\n",
    "z = 3 + 4j\n",
    "print('complex real:', z.real)  # 3.0\n",
    "print('complex imag:', z.imag)  # 4.0\n",
    "# Use help() to explore complex methods\n",
    "print('\\nExploring complex with help():')\n",
    "help(complex)"
   ]
  },
  {
   "cell_type": "code",
   "execution_count": null,
   "metadata": {},
   "outputs": [],
   "source": [
    "# List (list)\n",
    "lst = [1, 3, 2]\n",
    "lst.append(4)\n",
    "print('list after append:', lst)  # [1, 3, 2, 4]\n",
    "lst.sort()\n",
    "print('list after sort:', lst)  # [1, 2, 3, 4]\n",
    "# Use help() to explore list methods\n",
    "print('\\nExploring list with help():')\n",
    "help(list)"
   ]
  },
  {
   "cell_type": "code",
   "execution_count": null,
   "metadata": {},
   "outputs": [],
   "source": [
    "# Tuple (tuple)\n",
    "tup = (1, 2, 2, 3)\n",
    "print('tuple count of 2:', tup.count(2))  # 2\n",
    "print('tuple index of 3:', tup.index(3))  # 3\n",
    "# Use help() to explore tuple methods\n",
    "print('\\nExploring tuple with help():')\n",
    "help(tuple)"
   ]
  },
  {
   "cell_type": "code",
   "execution_count": null,
   "metadata": {},
   "outputs": [],
   "source": [
    "# String (str)\n",
    "s = 'hello world'\n",
    "print('str upper:', s.upper())  # HELLO WORLD\n",
    "print('str split:', s.split(' '))  # ['hello', 'world']\n",
    "# Use help() to explore str methods\n",
    "print('\\nExploring str with help():')\n",
    "help(str)"
   ]
  },
  {
   "cell_type": "code",
   "execution_count": null,
   "metadata": {},
   "outputs": [],
   "source": [
    "# Set (set)\n",
    "s1 = {1, 2}\n",
    "s1.add(3)\n",
    "print('set after add:', s1)  # {1, 2, 3}\n",
    "s2 = {2, 3, 4}\n",
    "print('set union:', s1.union(s2))  # {1, 2, 3, 4}\n",
    "# Use help() to explore set methods\n",
    "print('\\nExploring set with help():')\n",
    "help(set)"
   ]
  },
  {
   "cell_type": "code",
   "execution_count": null,
   "metadata": {},
   "outputs": [],
   "source": [
    "# Dictionary (dict)\n",
    "d = {'a': 1, 'b': 2}\n",
    "print('dict keys:', d.keys())  # dict_keys(['a', 'b'])\n",
    "print('dict get:', d.get('c', 0))  # 0 (default)\n",
    "# Use help() to explore dict methods\n",
    "print('\\nExploring dict with help():')\n",
    "help(dict)"
   ]
  },
  {
   "cell_type": "code",
   "execution_count": null,
   "metadata": {},
   "outputs": [],
   "source": [
    "# Boolean (bool)\n",
    "b = True\n",
    "print('bool as int:', int(b))  # 1\n",
    "print('bool bit_length:', b.bit_length())  # 1\n",
    "# Use help() to explore bool methods\n",
    "print('\\nExploring bool with help():')\n",
    "help(bool)"
   ]
  }
 ],
 "metadata": {
  "kernelspec": {
   "display_name": "Python 3",
   "language": "python",
   "name": "python3"
  },
  "language_info": {
   "codemirror_mode": {
    "name": "ipython",
    "version": 3
   },
   "file_extension": ".py",
   "mimetype": "text/x-python",
   "name": "python",
   "nbconvert_exporter": "python",
   "pygments_lexer": "ipython3",
   "version": "3.x"
  }
 },
 "nbformat": 4,
 "nbformat_minor": 4
}